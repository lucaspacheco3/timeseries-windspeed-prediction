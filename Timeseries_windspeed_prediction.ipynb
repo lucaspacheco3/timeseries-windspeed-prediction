{
 "cells": [
  {
   "cell_type": "markdown",
   "metadata": {
    "id": "JNaOJR-dQN7T"
   },
   "source": [
    "# **Clean and Prep Data**"
   ]
  },
  {
   "cell_type": "code",
   "execution_count": null,
   "metadata": {
    "colab": {
     "base_uri": "https://localhost:8080/"
    },
    "id": "aygNXqvQLeUB",
    "outputId": "56f9cdaa-886a-48c4-ba10-561d0dcff4b5"
   },
   "outputs": [
    {
     "name": "stdout",
     "output_type": "stream",
     "text": [
      "Mounted at /content/drive\n"
     ]
    }
   ],
   "source": [
    "import pandas as pd\n",
    "import numpy as np\n",
    "import matplotlib as mpl\n",
    "import matplotlib.pyplot as plt\n",
    "import seaborn as sns\n",
    "import keras\n",
    "import tensorflow as tf\n",
    "from keras.callbacks import ModelCheckpoint, EarlyStopping\n",
    "from google.colab import drive\n",
    "from keras.utils import timeseries_dataset_from_array\n",
    "\n",
    "# Mount Google Drive containing data\n",
    "drive.mount('/content/drive')"
   ]
  },
  {
   "cell_type": "code",
   "execution_count": null,
   "metadata": {
    "id": "N6Ce_4_tMKrd"
   },
   "outputs": [],
   "source": [
    "def load_datasets():\n",
    "    raw_gusts = pd.read_csv('/content/drive/MyDrive/Windspeed-timeseries/K2WX-gusts.csv')\n",
    "    raw_mins = pd.read_csv('/content/drive/MyDrive/Windspeed-timeseries/K2WX.csv')\n",
    "    raw_gusts['utc'] = pd.to_datetime(raw_gusts['utc'])\n",
    "    raw_mins['UTC'] = pd.to_datetime(raw_mins['UTC'])\n",
    "    raw_mins.drop(columns=['Unnamed: 0', 'tags', 'Prcp'], inplace=True)\n",
    "    return raw_mins, raw_gusts"
   ]
  },
  {
   "cell_type": "code",
   "execution_count": null,
   "metadata": {
    "id": "wy1cXogaIEBu"
   },
   "outputs": [],
   "source": [
    "def get_storm_events(df):\n",
    "    storm_gusts = df[df['Class'].isin([3, 4, 5])].copy()\n",
    "    return storm_gusts"
   ]
  },
  {
   "cell_type": "code",
   "execution_count": null,
   "metadata": {
    "id": "L8dQvXMbC4wU"
   },
   "outputs": [],
   "source": [
    "def cyclical_encoding_helper(df):\n",
    "    \"\"\"Cyclical encoding for the periodic time series features.\"\"\"\n",
    "    features_to_encode = ['hour', 'month']\n",
    "    for feature in features_to_encode:\n",
    "        period = len(df[feature].unique())\n",
    "        if df[feature].min() == 1:\n",
    "            angles = (df[feature] - 1) * (2 * np.pi / period)\n",
    "        else:\n",
    "            angles = (df[feature]) * (2 * np.pi / period)\n",
    "        sin_feature = np.sin(angles)\n",
    "        cos_feature = np.cos(angles)\n",
    "        df[feature + '_sin'] = sin_feature\n",
    "        df[feature + '_cos'] = cos_feature\n",
    "    df.drop(columns=features_to_encode, inplace=True)\n",
    "    df.drop(columns='UTC', inplace=True)\n",
    "    return df"
   ]
  },
  {
   "cell_type": "code",
   "execution_count": null,
   "metadata": {
    "id": "mgFaO45DClfy"
   },
   "outputs": [],
   "source": [
    "def add_timeseries_features(df):\n",
    "    \"\"\"Adds time-series relevant features: month of the year, hour of the day.\"\"\"\n",
    "    df['hour'] = df['UTC'].dt.hour\n",
    "    df['month'] = df['UTC'].dt.month\n",
    "    df = cyclical_encoding_helper(df)\n",
    "    return df"
   ]
  },
  {
   "cell_type": "code",
   "execution_count": null,
   "metadata": {
    "id": "Fo5r5LWOH8zN"
   },
   "outputs": [],
   "source": [
    "def transform_wind_to_xy(df):\n",
    "    spd = df['Spd']\n",
    "    drn_rad = df.pop('Drn') * np.pi / 180\n",
    "    df['Spd_x'] = spd * np.cos(drn_rad)\n",
    "    df['Spd_y'] = spd * np.sin(drn_rad)\n",
    "    gspd = df.pop('gSpd')\n",
    "    gdrn_rad = df.pop('gDrn') * np.pi / 180\n",
    "    df['gSpd_x'] = gspd * np.cos(gdrn_rad)\n",
    "    df['gSpd_y'] = gspd * np.sin(gdrn_rad)\n",
    "    return df"
   ]
  },
  {
   "cell_type": "code",
   "execution_count": null,
   "metadata": {
    "colab": {
     "base_uri": "https://localhost:8080/"
    },
    "id": "rt1mGsuWHeMm",
    "outputId": "d8e169d8-a26d-4064-f54b-bface8deea14"
   },
   "outputs": [
    {
     "name": "stderr",
     "output_type": "stream",
     "text": [
      "<ipython-input-2-70ba62a61c3c>:3: DtypeWarning: Columns (7) have mixed types. Specify dtype option on import or set low_memory=False.\n",
      "  raw_mins = pd.read_csv('/content/drive/MyDrive/Windspeed-timeseries/K2WX.csv')\n"
     ]
    }
   ],
   "source": [
    "raw_mins, raw_gusts = load_datasets()           # Will give a DtypeWarning, but this column is\n",
    "                                                # unnecesary and is dropped from the analysis\n",
    "\n",
    "storm_gusts = get_storm_events(raw_gusts)       # To match up correctly storm_gusts\n",
    "storm_gusts['indx'] = storm_gusts['indx'] - 1   # indices must be shifted back by 1\n",
    "\n",
    "mins_data = add_timeseries_features(raw_mins.copy())\n",
    "mins_data = transform_wind_to_xy(mins_data)"
   ]
  },
  {
   "cell_type": "code",
   "execution_count": null,
   "metadata": {
    "colab": {
     "base_uri": "https://localhost:8080/",
     "height": 300
    },
    "id": "MseeBiDNOMqb",
    "outputId": "24484ad0-2cf3-4dbb-e162-9330b10c2031"
   },
   "outputs": [
    {
     "data": {
      "text/html": [
       "\n",
       "  <div id=\"df-57a12212-ceb2-46c2-91a4-d4de3a02b2f4\" class=\"colab-df-container\">\n",
       "    <div>\n",
       "<style scoped>\n",
       "    .dataframe tbody tr th:only-of-type {\n",
       "        vertical-align: middle;\n",
       "    }\n",
       "\n",
       "    .dataframe tbody tr th {\n",
       "        vertical-align: top;\n",
       "    }\n",
       "\n",
       "    .dataframe thead th {\n",
       "        text-align: right;\n",
       "    }\n",
       "</style>\n",
       "<table border=\"1\" class=\"dataframe\">\n",
       "  <thead>\n",
       "    <tr style=\"text-align: right;\">\n",
       "      <th></th>\n",
       "      <th>Spd</th>\n",
       "      <th>Tdry</th>\n",
       "      <th>Tdew</th>\n",
       "      <th>Qfe</th>\n",
       "      <th>hour_sin</th>\n",
       "      <th>hour_cos</th>\n",
       "      <th>month_sin</th>\n",
       "      <th>month_cos</th>\n",
       "      <th>Spd_x</th>\n",
       "      <th>Spd_y</th>\n",
       "      <th>gSpd_x</th>\n",
       "      <th>gSpd_y</th>\n",
       "    </tr>\n",
       "  </thead>\n",
       "  <tbody>\n",
       "    <tr>\n",
       "      <th>count</th>\n",
       "      <td>8173571.00</td>\n",
       "      <td>8176710.00</td>\n",
       "      <td>8176693.00</td>\n",
       "      <td>8176710.00</td>\n",
       "      <td>9113547.00</td>\n",
       "      <td>9113547.00</td>\n",
       "      <td>9113547.00</td>\n",
       "      <td>9113547.00</td>\n",
       "      <td>8173571.00</td>\n",
       "      <td>8173571.00</td>\n",
       "      <td>8173571.00</td>\n",
       "      <td>8173571.00</td>\n",
       "    </tr>\n",
       "    <tr>\n",
       "      <th>mean</th>\n",
       "      <td>10.99</td>\n",
       "      <td>46.04</td>\n",
       "      <td>31.63</td>\n",
       "      <td>26.80</td>\n",
       "      <td>-0.00</td>\n",
       "      <td>0.00</td>\n",
       "      <td>0.01</td>\n",
       "      <td>-0.01</td>\n",
       "      <td>1.55</td>\n",
       "      <td>-2.73</td>\n",
       "      <td>1.75</td>\n",
       "      <td>-3.09</td>\n",
       "    </tr>\n",
       "    <tr>\n",
       "      <th>std</th>\n",
       "      <td>6.84</td>\n",
       "      <td>22.76</td>\n",
       "      <td>17.66</td>\n",
       "      <td>0.19</td>\n",
       "      <td>0.71</td>\n",
       "      <td>0.71</td>\n",
       "      <td>0.71</td>\n",
       "      <td>0.70</td>\n",
       "      <td>8.08</td>\n",
       "      <td>9.62</td>\n",
       "      <td>9.55</td>\n",
       "      <td>11.25</td>\n",
       "    </tr>\n",
       "    <tr>\n",
       "      <th>min</th>\n",
       "      <td>0.00</td>\n",
       "      <td>-29.00</td>\n",
       "      <td>-52.00</td>\n",
       "      <td>25.95</td>\n",
       "      <td>-1.00</td>\n",
       "      <td>-1.00</td>\n",
       "      <td>-1.00</td>\n",
       "      <td>-1.00</td>\n",
       "      <td>-46.97</td>\n",
       "      <td>-65.64</td>\n",
       "      <td>-141.60</td>\n",
       "      <td>-97.27</td>\n",
       "    </tr>\n",
       "    <tr>\n",
       "      <th>25%</th>\n",
       "      <td>6.00</td>\n",
       "      <td>30.00</td>\n",
       "      <td>20.00</td>\n",
       "      <td>26.68</td>\n",
       "      <td>-0.71</td>\n",
       "      <td>-0.71</td>\n",
       "      <td>-0.50</td>\n",
       "      <td>-0.87</td>\n",
       "      <td>-3.61</td>\n",
       "      <td>-8.98</td>\n",
       "      <td>-4.21</td>\n",
       "      <td>-10.20</td>\n",
       "    </tr>\n",
       "    <tr>\n",
       "      <th>50%</th>\n",
       "      <td>10.00</td>\n",
       "      <td>46.00</td>\n",
       "      <td>31.00</td>\n",
       "      <td>26.81</td>\n",
       "      <td>0.00</td>\n",
       "      <td>0.00</td>\n",
       "      <td>0.00</td>\n",
       "      <td>-0.00</td>\n",
       "      <td>0.78</td>\n",
       "      <td>-2.27</td>\n",
       "      <td>0.94</td>\n",
       "      <td>-2.72</td>\n",
       "    </tr>\n",
       "    <tr>\n",
       "      <th>75%</th>\n",
       "      <td>14.00</td>\n",
       "      <td>63.00</td>\n",
       "      <td>46.00</td>\n",
       "      <td>26.93</td>\n",
       "      <td>0.71</td>\n",
       "      <td>0.71</td>\n",
       "      <td>0.87</td>\n",
       "      <td>0.50</td>\n",
       "      <td>6.63</td>\n",
       "      <td>4.23</td>\n",
       "      <td>7.63</td>\n",
       "      <td>4.91</td>\n",
       "    </tr>\n",
       "    <tr>\n",
       "      <th>max</th>\n",
       "      <td>68.00</td>\n",
       "      <td>124.00</td>\n",
       "      <td>91.00</td>\n",
       "      <td>27.65</td>\n",
       "      <td>1.00</td>\n",
       "      <td>1.00</td>\n",
       "      <td>1.00</td>\n",
       "      <td>1.00</td>\n",
       "      <td>48.77</td>\n",
       "      <td>42.69</td>\n",
       "      <td>98.79</td>\n",
       "      <td>139.63</td>\n",
       "    </tr>\n",
       "  </tbody>\n",
       "</table>\n",
       "</div>\n",
       "    <div class=\"colab-df-buttons\">\n",
       "\n",
       "  <div class=\"colab-df-container\">\n",
       "    <button class=\"colab-df-convert\" onclick=\"convertToInteractive('df-57a12212-ceb2-46c2-91a4-d4de3a02b2f4')\"\n",
       "            title=\"Convert this dataframe to an interactive table.\"\n",
       "            style=\"display:none;\">\n",
       "\n",
       "  <svg xmlns=\"http://www.w3.org/2000/svg\" height=\"24px\" viewBox=\"0 -960 960 960\">\n",
       "    <path d=\"M120-120v-720h720v720H120Zm60-500h600v-160H180v160Zm220 220h160v-160H400v160Zm0 220h160v-160H400v160ZM180-400h160v-160H180v160Zm440 0h160v-160H620v160ZM180-180h160v-160H180v160Zm440 0h160v-160H620v160Z\"/>\n",
       "  </svg>\n",
       "    </button>\n",
       "\n",
       "  <style>\n",
       "    .colab-df-container {\n",
       "      display:flex;\n",
       "      gap: 12px;\n",
       "    }\n",
       "\n",
       "    .colab-df-convert {\n",
       "      background-color: #E8F0FE;\n",
       "      border: none;\n",
       "      border-radius: 50%;\n",
       "      cursor: pointer;\n",
       "      display: none;\n",
       "      fill: #1967D2;\n",
       "      height: 32px;\n",
       "      padding: 0 0 0 0;\n",
       "      width: 32px;\n",
       "    }\n",
       "\n",
       "    .colab-df-convert:hover {\n",
       "      background-color: #E2EBFA;\n",
       "      box-shadow: 0px 1px 2px rgba(60, 64, 67, 0.3), 0px 1px 3px 1px rgba(60, 64, 67, 0.15);\n",
       "      fill: #174EA6;\n",
       "    }\n",
       "\n",
       "    .colab-df-buttons div {\n",
       "      margin-bottom: 4px;\n",
       "    }\n",
       "\n",
       "    [theme=dark] .colab-df-convert {\n",
       "      background-color: #3B4455;\n",
       "      fill: #D2E3FC;\n",
       "    }\n",
       "\n",
       "    [theme=dark] .colab-df-convert:hover {\n",
       "      background-color: #434B5C;\n",
       "      box-shadow: 0px 1px 3px 1px rgba(0, 0, 0, 0.15);\n",
       "      filter: drop-shadow(0px 1px 2px rgba(0, 0, 0, 0.3));\n",
       "      fill: #FFFFFF;\n",
       "    }\n",
       "  </style>\n",
       "\n",
       "    <script>\n",
       "      const buttonEl =\n",
       "        document.querySelector('#df-57a12212-ceb2-46c2-91a4-d4de3a02b2f4 button.colab-df-convert');\n",
       "      buttonEl.style.display =\n",
       "        google.colab.kernel.accessAllowed ? 'block' : 'none';\n",
       "\n",
       "      async function convertToInteractive(key) {\n",
       "        const element = document.querySelector('#df-57a12212-ceb2-46c2-91a4-d4de3a02b2f4');\n",
       "        const dataTable =\n",
       "          await google.colab.kernel.invokeFunction('convertToInteractive',\n",
       "                                                    [key], {});\n",
       "        if (!dataTable) return;\n",
       "\n",
       "        const docLinkHtml = 'Like what you see? Visit the ' +\n",
       "          '<a target=\"_blank\" href=https://colab.research.google.com/notebooks/data_table.ipynb>data table notebook</a>'\n",
       "          + ' to learn more about interactive tables.';\n",
       "        element.innerHTML = '';\n",
       "        dataTable['output_type'] = 'display_data';\n",
       "        await google.colab.output.renderOutput(dataTable, element);\n",
       "        const docLink = document.createElement('div');\n",
       "        docLink.innerHTML = docLinkHtml;\n",
       "        element.appendChild(docLink);\n",
       "      }\n",
       "    </script>\n",
       "  </div>\n",
       "\n",
       "\n",
       "<div id=\"df-646f8c39-8b81-4818-82df-91892df5b01b\">\n",
       "  <button class=\"colab-df-quickchart\" onclick=\"quickchart('df-646f8c39-8b81-4818-82df-91892df5b01b')\"\n",
       "            title=\"Suggest charts\"\n",
       "            style=\"display:none;\">\n",
       "\n",
       "<svg xmlns=\"http://www.w3.org/2000/svg\" height=\"24px\"viewBox=\"0 0 24 24\"\n",
       "     width=\"24px\">\n",
       "    <g>\n",
       "        <path d=\"M19 3H5c-1.1 0-2 .9-2 2v14c0 1.1.9 2 2 2h14c1.1 0 2-.9 2-2V5c0-1.1-.9-2-2-2zM9 17H7v-7h2v7zm4 0h-2V7h2v10zm4 0h-2v-4h2v4z\"/>\n",
       "    </g>\n",
       "</svg>\n",
       "  </button>\n",
       "\n",
       "<style>\n",
       "  .colab-df-quickchart {\n",
       "      --bg-color: #E8F0FE;\n",
       "      --fill-color: #1967D2;\n",
       "      --hover-bg-color: #E2EBFA;\n",
       "      --hover-fill-color: #174EA6;\n",
       "      --disabled-fill-color: #AAA;\n",
       "      --disabled-bg-color: #DDD;\n",
       "  }\n",
       "\n",
       "  [theme=dark] .colab-df-quickchart {\n",
       "      --bg-color: #3B4455;\n",
       "      --fill-color: #D2E3FC;\n",
       "      --hover-bg-color: #434B5C;\n",
       "      --hover-fill-color: #FFFFFF;\n",
       "      --disabled-bg-color: #3B4455;\n",
       "      --disabled-fill-color: #666;\n",
       "  }\n",
       "\n",
       "  .colab-df-quickchart {\n",
       "    background-color: var(--bg-color);\n",
       "    border: none;\n",
       "    border-radius: 50%;\n",
       "    cursor: pointer;\n",
       "    display: none;\n",
       "    fill: var(--fill-color);\n",
       "    height: 32px;\n",
       "    padding: 0;\n",
       "    width: 32px;\n",
       "  }\n",
       "\n",
       "  .colab-df-quickchart:hover {\n",
       "    background-color: var(--hover-bg-color);\n",
       "    box-shadow: 0 1px 2px rgba(60, 64, 67, 0.3), 0 1px 3px 1px rgba(60, 64, 67, 0.15);\n",
       "    fill: var(--button-hover-fill-color);\n",
       "  }\n",
       "\n",
       "  .colab-df-quickchart-complete:disabled,\n",
       "  .colab-df-quickchart-complete:disabled:hover {\n",
       "    background-color: var(--disabled-bg-color);\n",
       "    fill: var(--disabled-fill-color);\n",
       "    box-shadow: none;\n",
       "  }\n",
       "\n",
       "  .colab-df-spinner {\n",
       "    border: 2px solid var(--fill-color);\n",
       "    border-color: transparent;\n",
       "    border-bottom-color: var(--fill-color);\n",
       "    animation:\n",
       "      spin 1s steps(1) infinite;\n",
       "  }\n",
       "\n",
       "  @keyframes spin {\n",
       "    0% {\n",
       "      border-color: transparent;\n",
       "      border-bottom-color: var(--fill-color);\n",
       "      border-left-color: var(--fill-color);\n",
       "    }\n",
       "    20% {\n",
       "      border-color: transparent;\n",
       "      border-left-color: var(--fill-color);\n",
       "      border-top-color: var(--fill-color);\n",
       "    }\n",
       "    30% {\n",
       "      border-color: transparent;\n",
       "      border-left-color: var(--fill-color);\n",
       "      border-top-color: var(--fill-color);\n",
       "      border-right-color: var(--fill-color);\n",
       "    }\n",
       "    40% {\n",
       "      border-color: transparent;\n",
       "      border-right-color: var(--fill-color);\n",
       "      border-top-color: var(--fill-color);\n",
       "    }\n",
       "    60% {\n",
       "      border-color: transparent;\n",
       "      border-right-color: var(--fill-color);\n",
       "    }\n",
       "    80% {\n",
       "      border-color: transparent;\n",
       "      border-right-color: var(--fill-color);\n",
       "      border-bottom-color: var(--fill-color);\n",
       "    }\n",
       "    90% {\n",
       "      border-color: transparent;\n",
       "      border-bottom-color: var(--fill-color);\n",
       "    }\n",
       "  }\n",
       "</style>\n",
       "\n",
       "  <script>\n",
       "    async function quickchart(key) {\n",
       "      const quickchartButtonEl =\n",
       "        document.querySelector('#' + key + ' button');\n",
       "      quickchartButtonEl.disabled = true;  // To prevent multiple clicks.\n",
       "      quickchartButtonEl.classList.add('colab-df-spinner');\n",
       "      try {\n",
       "        const charts = await google.colab.kernel.invokeFunction(\n",
       "            'suggestCharts', [key], {});\n",
       "      } catch (error) {\n",
       "        console.error('Error during call to suggestCharts:', error);\n",
       "      }\n",
       "      quickchartButtonEl.classList.remove('colab-df-spinner');\n",
       "      quickchartButtonEl.classList.add('colab-df-quickchart-complete');\n",
       "    }\n",
       "    (() => {\n",
       "      let quickchartButtonEl =\n",
       "        document.querySelector('#df-646f8c39-8b81-4818-82df-91892df5b01b button');\n",
       "      quickchartButtonEl.style.display =\n",
       "        google.colab.kernel.accessAllowed ? 'block' : 'none';\n",
       "    })();\n",
       "  </script>\n",
       "</div>\n",
       "\n",
       "    </div>\n",
       "  </div>\n"
      ],
      "text/plain": [
       "             Spd       Tdry       Tdew        Qfe   hour_sin   hour_cos  \\\n",
       "count 8173571.00 8176710.00 8176693.00 8176710.00 9113547.00 9113547.00   \n",
       "mean       10.99      46.04      31.63      26.80      -0.00       0.00   \n",
       "std         6.84      22.76      17.66       0.19       0.71       0.71   \n",
       "min         0.00     -29.00     -52.00      25.95      -1.00      -1.00   \n",
       "25%         6.00      30.00      20.00      26.68      -0.71      -0.71   \n",
       "50%        10.00      46.00      31.00      26.81       0.00       0.00   \n",
       "75%        14.00      63.00      46.00      26.93       0.71       0.71   \n",
       "max        68.00     124.00      91.00      27.65       1.00       1.00   \n",
       "\n",
       "       month_sin  month_cos      Spd_x      Spd_y     gSpd_x     gSpd_y  \n",
       "count 9113547.00 9113547.00 8173571.00 8173571.00 8173571.00 8173571.00  \n",
       "mean        0.01      -0.01       1.55      -2.73       1.75      -3.09  \n",
       "std         0.71       0.70       8.08       9.62       9.55      11.25  \n",
       "min        -1.00      -1.00     -46.97     -65.64    -141.60     -97.27  \n",
       "25%        -0.50      -0.87      -3.61      -8.98      -4.21     -10.20  \n",
       "50%         0.00      -0.00       0.78      -2.27       0.94      -2.72  \n",
       "75%         0.87       0.50       6.63       4.23       7.63       4.91  \n",
       "max         1.00       1.00      48.77      42.69      98.79     139.63  "
      ]
     },
     "execution_count": 8,
     "metadata": {},
     "output_type": "execute_result"
    }
   ],
   "source": [
    "pd.set_option('display.float_format', lambda x: '%.2f' % x)\n",
    "mins_data.describe()"
   ]
  },
  {
   "cell_type": "code",
   "execution_count": null,
   "metadata": {
    "id": "o4a6W_e6phF5"
   },
   "outputs": [],
   "source": [
    "# Z-score normalization of data\n",
    "mins_means = mins_data.mean()\n",
    "mins_stds = mins_data.std()\n",
    "mins_scaled = (mins_data - mins_means) / mins_stds\n",
    "\n",
    "# Will need these to unscale target speed inside function create_timeseries_data()\n",
    "spd_mean = mins_means['Spd']\n",
    "spd_std = mins_stds['Spd']\n",
    "\n",
    "# Will need these to evaluate the null method for baseline metrics\n",
    "spd_xmean = mins_means['Spd_x']\n",
    "spd_xstd = mins_stds['Spd_x']\n",
    "spd_ymean = mins_means['Spd_y']\n",
    "spd_ystd = mins_stds['Spd_y']"
   ]
  },
  {
   "cell_type": "markdown",
   "metadata": {
    "id": "aWoZc9IRpmUa"
   },
   "source": [
    "The mean Spd across the entire mins_data is ~11, while the mean Spd across just the windows created from gusts is ~13, which is not a huge difference, meaning that this scaling method works fine."
   ]
  },
  {
   "cell_type": "code",
   "execution_count": null,
   "metadata": {
    "id": "1pH0GVB7aZ5s"
   },
   "outputs": [],
   "source": [
    "def format_timeseries_data(data, targets, past_mins=5, pred_gap=5):\n",
    "    timeseries_data = timeseries_dataset_from_array(\n",
    "        data=data[:-pred_gap],\n",
    "        targets=targets[(past_mins + pred_gap - 1):],\n",
    "        sequence_length=past_mins,\n",
    "        shuffle=False)\n",
    "    return timeseries_data"
   ]
  },
  {
   "cell_type": "code",
   "execution_count": null,
   "metadata": {
    "id": "VkdX4HVPuwn9"
   },
   "outputs": [],
   "source": [
    "def create_timeseries_data(mins_data, storm_gusts, window_size=60, past_mins=5, pred_gap=5):\n",
    "    time_delta = int(window_size/2)\n",
    "    concatenated_dataset = None\n",
    "\n",
    "    for index, gust in storm_gusts.iterrows():\n",
    "        index_of_peak = gust['indx']\n",
    "        window_start = index_of_peak - (time_delta - 1)\n",
    "        window_end = index_of_peak + time_delta\n",
    "        window = mins_data.loc[window_start : window_end].copy()\n",
    "\n",
    "        if window.isna().any().any():   # Skipping gust observations with any NA values in the mins_data\n",
    "            continue\n",
    "\n",
    "        target_spd = window.pop('Spd')\n",
    "        target_spd = (target_spd * spd_std) + spd_mean   # Need to un-scale the response variable since it was passed in scaled\n",
    "\n",
    "        timeseries_data = format_timeseries_data(window, target_spd, past_mins, pred_gap)\n",
    "\n",
    "        if concatenated_dataset is None:\n",
    "            concatenated_dataset = timeseries_data\n",
    "        else:\n",
    "            concatenated_dataset = concatenated_dataset.concatenate(timeseries_data)\n",
    "\n",
    "    return concatenated_dataset"
   ]
  },
  {
   "cell_type": "code",
   "execution_count": null,
   "metadata": {
    "id": "JnlDjHgK5MDv"
   },
   "outputs": [],
   "source": [
    "# Partition storm gusts data into train, validation, and test\n",
    "n = len(storm_gusts)\n",
    "train_gusts = storm_gusts[:int(n*0.7)]\n",
    "val_gusts = storm_gusts[int(n*0.7):int(n*0.9)]\n",
    "test_gusts = storm_gusts[int(n*0.9):]"
   ]
  },
  {
   "cell_type": "code",
   "execution_count": null,
   "metadata": {
    "id": "gQOFTZg66HSk"
   },
   "outputs": [],
   "source": [
    "# Takes 2 mins to run\n",
    "train = create_timeseries_data(mins_scaled, train_gusts, window_size=60, past_mins=5, pred_gap=5)\n",
    "val = create_timeseries_data(mins_scaled, val_gusts, window_size=60, past_mins=5, pred_gap=5)\n",
    "test = create_timeseries_data(mins_scaled, test_gusts, window_size=60, past_mins=5, pred_gap=5)"
   ]
  },
  {
   "cell_type": "markdown",
   "metadata": {
    "id": "acAzP1ryN6-O"
   },
   "source": [
    "# **Model Fitting**"
   ]
  },
  {
   "cell_type": "markdown",
   "metadata": {
    "id": "r-U5-td9OF22"
   },
   "source": [
    "The null model simply uses the last seen wind speed value as the prediction - this is used to establish a baseline for the evaluation metrics."
   ]
  },
  {
   "cell_type": "code",
   "execution_count": null,
   "metadata": {
    "id": "m_wWe595q9vB"
   },
   "outputs": [],
   "source": [
    "def eval_null_method(dataset):\n",
    "    total_abs_error = 0.\n",
    "    samples_seen = 0\n",
    "    for samples, targets in dataset:\n",
    "        pred_x = samples[:, -1, 7]   # column 7 has Spd x component and 8 has the y component, use\n",
    "        pred_y = samples[:, -1, 8]   # [-1] to get the most recent time_step as the naive prediction\n",
    "        predictions = np.sqrt(pred_x**2 + pred_y**2)\n",
    "        total_abs_error += np.sum(np.abs(predictions - targets))\n",
    "        samples_seen += samples.shape[0]\n",
    "    return total_abs_error / samples_seen"
   ]
  },
  {
   "cell_type": "code",
   "execution_count": null,
   "metadata": {
    "colab": {
     "base_uri": "https://localhost:8080/"
    },
    "id": "AEKxWmb2v9Go",
    "outputId": "9eea45a4-97c6-4cbc-e41e-5e5966544059"
   },
   "outputs": [
    {
     "name": "stdout",
     "output_type": "stream",
     "text": [
      "Baseline Metrics\n",
      "----------------\n",
      "Validation MAE: 11.535\n",
      "Test MAE: 10.801\n"
     ]
    }
   ],
   "source": [
    "print(\"Baseline Metrics\")\n",
    "print(\"----------------\")\n",
    "print(f\"Validation MAE: {eval_null_method(val):.3f}\")\n",
    "print(f\"Test MAE: {eval_null_method(test):.3f}\")"
   ]
  },
  {
   "cell_type": "markdown",
   "metadata": {
    "id": "-EI3Pnhm5E3f"
   },
   "source": [
    "The units for MAE are the same as the response variable (knots). This means our null model was off on average by 11 knots each minute in the window. Is this baseline reasonable? I think so.. the wind speed is highly variable during these gusts so this naive method should be bad."
   ]
  },
  {
   "cell_type": "code",
   "execution_count": null,
   "metadata": {
    "id": "VvS0YFLeq6il"
   },
   "outputs": [],
   "source": [
    "def compile_and_fit(model, save_name, max_epochs=20, patience=2):\n",
    "    save_dir = '/content/drive/MyDrive/ColabNotebooks/Models/'\n",
    "\n",
    "    callbacks = [EarlyStopping(monitor='val_loss', patience=patience),\n",
    "                 ModelCheckpoint(save_dir + save_name + '.keras', save_best_only=True)]\n",
    "\n",
    "    model.compile(loss=keras.losses.MeanSquaredError(),\n",
    "                optimizer=keras.optimizers.RMSprop(),\n",
    "                metrics=[keras.metrics.MeanAbsoluteError()])\n",
    "\n",
    "    history = model.fit(train, epochs=max_epochs,\n",
    "                      validation_data=val,\n",
    "                      callbacks=callbacks)\n",
    "    return history"
   ]
  },
  {
   "cell_type": "code",
   "execution_count": null,
   "metadata": {
    "id": "Js1TNmL7sVLf"
   },
   "outputs": [],
   "source": [
    "linear = keras.Sequential([\n",
    "    keras.layers.Flatten(input_shape=(5 * 11,)),\n",
    "    keras.layers.Dense(units=1)\n",
    "])\n",
    "\n",
    "linear_history = compile_and_fit(linear, save_name='linear')"
   ]
  },
  {
   "cell_type": "code",
   "execution_count": null,
   "metadata": {
    "colab": {
     "base_uri": "https://localhost:8080/"
    },
    "id": "6seIAtRbs2E9",
    "outputId": "fac5efce-cc1c-4112-cfaf-188c4497c131"
   },
   "outputs": [
    {
     "name": "stdout",
     "output_type": "stream",
     "text": [
      "188/188 [==============================] - 6s 32ms/step - loss: 23.0912 - mean_absolute_error: 3.8553\n",
      "Validation MAE: 3.855\n",
      "92/92 [==============================] - 5s 50ms/step - loss: 24.6042 - mean_absolute_error: 3.9916\n",
      "Test MAE: 3.992\n"
     ]
    }
   ],
   "source": [
    "linear_model = keras.models.load_model('/content/drive/MyDrive/ColabNotebooks/Models/linear.keras')\n",
    "print(f\"Validation MAE: {linear_model.evaluate(val)[1]:.3f}\")\n",
    "print(f\"Test MAE: {linear_model.evaluate(test)[1]:.3f}\")"
   ]
  },
  {
   "cell_type": "code",
   "execution_count": null,
   "metadata": {
    "id": "JNzWTcALunwa"
   },
   "outputs": [],
   "source": [
    "dense1 = keras.Sequential([\n",
    "    keras.layers.Flatten(input_shape=(5 * 11,)),\n",
    "    keras.layers.Dense(units=64, activation='relu'),\n",
    "    keras.layers.Dropout(0.15),\n",
    "    keras.layers.Dense(units=1)\n",
    "])\n",
    "\n",
    "dense1_history = compile_and_fit(dense1, save_name='dense1')"
   ]
  },
  {
   "cell_type": "code",
   "execution_count": null,
   "metadata": {
    "colab": {
     "base_uri": "https://localhost:8080/"
    },
    "id": "dmCGN4d8vCM0",
    "outputId": "a3e98914-c193-439d-f881-db91b1acf368"
   },
   "outputs": [
    {
     "name": "stdout",
     "output_type": "stream",
     "text": [
      "188/188 [==============================] - 8s 43ms/step - loss: 9.3499 - mean_absolute_error: 2.3895\n",
      "Validation MAE: 2.390\n",
      "92/92 [==============================] - 3s 33ms/step - loss: 9.0883 - mean_absolute_error: 2.3340\n",
      "Test MAE: 2.334\n"
     ]
    }
   ],
   "source": [
    "dense1_model = keras.models.load_model('/content/drive/MyDrive/ColabNotebooks/Models/dense1.keras')\n",
    "print(f\"Validation MAE: {dense1_model.evaluate(val)[1]:.3f}\")\n",
    "print(f\"Test MAE: {dense1_model.evaluate(test)[1]:.3f}\")"
   ]
  },
  {
   "cell_type": "code",
   "execution_count": null,
   "metadata": {
    "id": "2-OcaiBvDsc4"
   },
   "outputs": [],
   "source": [
    "dense2 = keras.Sequential([\n",
    "    keras.layers.Flatten(input_shape=(5 * 11,)),\n",
    "    keras.layers.Dense(units=64, activation='relu'),\n",
    "    keras.layers.Dropout(0.15),\n",
    "    keras.layers.Dense(units=64, activation='relu'),\n",
    "    keras.layers.Dropout(0.15),\n",
    "    keras.layers.Dense(units=1)\n",
    "])\n",
    "\n",
    "dense2_history = compile_and_fit(dense2, save_name='dense2')"
   ]
  },
  {
   "cell_type": "code",
   "execution_count": null,
   "metadata": {
    "colab": {
     "base_uri": "https://localhost:8080/"
    },
    "id": "Pnkwv9mVD3gO",
    "outputId": "48e4df68-6478-4db4-b982-bf3b5643b97f"
   },
   "outputs": [
    {
     "name": "stdout",
     "output_type": "stream",
     "text": [
      "188/188 [==============================] - 8s 40ms/step - loss: 9.7524 - mean_absolute_error: 2.4569\n",
      "Validation MAE: 2.457\n",
      "92/92 [==============================] - 3s 33ms/step - loss: 9.7556 - mean_absolute_error: 2.4203\n",
      "Test MAE: 2.420\n"
     ]
    }
   ],
   "source": [
    "dense2_model = keras.models.load_model('/content/drive/MyDrive/ColabNotebooks/Models/dense2.keras')\n",
    "print(f\"Validation MAE: {dense2_model.evaluate(val)[1]:.3f}\")\n",
    "print(f\"Test MAE: {dense2_model.evaluate(test)[1]:.3f}\")"
   ]
  },
  {
   "cell_type": "code",
   "execution_count": null,
   "metadata": {
    "colab": {
     "background_save": true
    },
    "id": "5uo7_s1CxaEB"
   },
   "outputs": [],
   "source": [
    "lstm1 = keras.Sequential([\n",
    "    keras.layers.LSTM(units=16, recurrent_dropout=0.15),\n",
    "    keras.layers.Dense(units=1)\n",
    "])\n",
    "\n",
    "lstm1_history = compile_and_fit(lstm1, save_name='lstm1')"
   ]
  },
  {
   "cell_type": "code",
   "execution_count": null,
   "metadata": {
    "colab": {
     "background_save": true
    },
    "id": "0UMNQUQ8yg_X",
    "outputId": "e24b3b7f-489e-475e-f8c8-6fee8fc432a7"
   },
   "outputs": [
    {
     "name": "stdout",
     "output_type": "stream",
     "text": [
      "188/188 [==============================] - 8s 41ms/step - loss: 25.1939 - mean_absolute_error: 4.0001\n",
      "Validation MAE: 4.000\n",
      "92/92 [==============================] - 3s 32ms/step - loss: 24.7244 - mean_absolute_error: 3.8306\n",
      "Test MAE: 3.831\n"
     ]
    }
   ],
   "source": [
    "model1 = keras.models.load_model('/content/drive/MyDrive/ColabNotebooks/Models/lstm1.keras')\n",
    "print(f\"Validation MAE: {model1.evaluate(val)[1]:.3f}\")\n",
    "print(f\"Test MAE: {model1.evaluate(test)[1]:.3f}\")"
   ]
  },
  {
   "cell_type": "code",
   "execution_count": null,
   "metadata": {
    "colab": {
     "background_save": true
    },
    "id": "RXFOTmRQyn8E"
   },
   "outputs": [],
   "source": [
    "lstm2 = keras.Sequential([\n",
    "    keras.layers.LSTM(units=64, recurrent_dropout=0.15),\n",
    "    keras.layers.Dense(units=1)\n",
    "])\n",
    "\n",
    "lstm2_history = compile_and_fit(lstm2, 'lstm2')"
   ]
  },
  {
   "cell_type": "code",
   "execution_count": null,
   "metadata": {
    "colab": {
     "background_save": true
    },
    "id": "16pRkxagzOTf",
    "outputId": "f70411de-cf29-4398-93a2-ffe92edc06f2"
   },
   "outputs": [
    {
     "name": "stdout",
     "output_type": "stream",
     "text": [
      "188/188 [==============================] - 7s 34ms/step - loss: 9.7501 - mean_absolute_error: 2.4591\n",
      "Validation MAE: 2.459\n",
      "92/92 [==============================] - 3s 32ms/step - loss: 9.4759 - mean_absolute_error: 2.3937\n",
      "Test MAE: 2.394\n"
     ]
    }
   ],
   "source": [
    "model2 = keras.models.load_model('/content/drive/MyDrive/ColabNotebooks/Models/lstm2.keras')\n",
    "print(f\"Validation MAE: {model2.evaluate(val)[1]:.3f}\")\n",
    "print(f\"Test MAE: {model2.evaluate(test)[1]:.3f}\")"
   ]
  },
  {
   "cell_type": "code",
   "execution_count": null,
   "metadata": {
    "colab": {
     "background_save": true
    },
    "id": "WCNryHwJDxaO"
   },
   "outputs": [],
   "source": [
    "lstm3 = keras.Sequential([\n",
    "    keras.layers.LSTM(units=16, recurrent_dropout=0.15, return_sequences=True),\n",
    "    keras.layers.LSTM(units=16, recurrent_dropout=0.15),\n",
    "    keras.layers.Dropout(0.15),\n",
    "    keras.layers.Dense(units=1)\n",
    "])\n",
    "\n",
    "lstm3_history = compile_and_fit(lstm3, save_name='lstm3')"
   ]
  },
  {
   "cell_type": "code",
   "execution_count": null,
   "metadata": {
    "colab": {
     "background_save": true
    },
    "id": "4FaoDMW-FRSH",
    "outputId": "2b3e0fc4-8090-42fb-8b31-3b5ec9e21af1"
   },
   "outputs": [
    {
     "name": "stdout",
     "output_type": "stream",
     "text": [
      "188/188 [==============================] - 7s 35ms/step - loss: 20.6844 - mean_absolute_error: 3.6632\n",
      "Validation MAE: 3.663\n",
      "92/92 [==============================] - 5s 50ms/step - loss: 20.2966 - mean_absolute_error: 3.6066\n",
      "Test MAE: 3.607\n"
     ]
    }
   ],
   "source": [
    "model3 = keras.models.load_model('/content/drive/MyDrive/ColabNotebooks/Models/lstm3.keras')\n",
    "print(f\"Validation MAE: {model3.evaluate(val)[1]:.3f}\")\n",
    "print(f\"Test MAE: {model3.evaluate(test)[1]:.3f}\")"
   ]
  },
  {
   "cell_type": "code",
   "execution_count": null,
   "metadata": {
    "id": "akR092DaEb9B"
   },
   "outputs": [],
   "source": [
    "lstm4 = keras.Sequential([\n",
    "    keras.layers.LSTM(units=64, recurrent_dropout=0.15, return_sequences=True),\n",
    "    keras.layers.LSTM(units=64, recurrent_dropout=0.15),\n",
    "    keras.layers.Dropout(0.15),\n",
    "    keras.layers.Dense(units=1)\n",
    "])\n",
    "\n",
    "lstm4_history = compile_and_fit(lstm4, save_name='lstm4')"
   ]
  },
  {
   "cell_type": "code",
   "execution_count": null,
   "metadata": {
    "colab": {
     "base_uri": "https://localhost:8080/"
    },
    "id": "pUj0Uo-WEdjS",
    "outputId": "9a346ebb-5f70-4b0e-f1b7-645e368fd912"
   },
   "outputs": [
    {
     "name": "stdout",
     "output_type": "stream",
     "text": [
      "188/188 [==============================] - 9s 43ms/step - loss: 9.9831 - mean_absolute_error: 2.5083\n",
      "Validation MAE: 2.508\n",
      "92/92 [==============================] - 3s 34ms/step - loss: 10.1691 - mean_absolute_error: 2.4958\n",
      "Test MAE: 2.496\n"
     ]
    }
   ],
   "source": [
    "model4 = keras.models.load_model('/content/drive/MyDrive/ColabNotebooks/Models/lstm4.keras')\n",
    "print(f\"Validation MAE: {model4.evaluate(val)[1]:.3f}\")\n",
    "print(f\"Test MAE: {model4.evaluate(test)[1]:.3f}\")"
   ]
  },
  {
   "cell_type": "code",
   "execution_count": null,
   "metadata": {
    "colab": {
     "background_save": true
    },
    "id": "OfutAImEIren"
   },
   "outputs": [],
   "source": [
    "lstm5 = keras.Sequential([\n",
    "    keras.layers.LSTM(units=256, recurrent_dropout=0.15, return_sequences=True),\n",
    "    keras.layers.LSTM(units=256, recurrent_dropout=0.15, return_sequences=True),\n",
    "    keras.layers.LSTM(units=256, recurrent_dropout=0.15, return_sequences=True),\n",
    "    keras.layers.LSTM(units=256, recurrent_dropout=0.15, return_sequences=True),\n",
    "    keras.layers.LSTM(units=256, recurrent_dropout=0.15),\n",
    "    keras.layers.Dropout(0.15),\n",
    "    keras.layers.Dense(units=1)\n",
    "])\n",
    "\n",
    "lstm5_history = compile_and_fit(lstm5, save_name='lstm5')"
   ]
  },
  {
   "cell_type": "code",
   "execution_count": null,
   "metadata": {
    "colab": {
     "base_uri": "https://localhost:8080/"
    },
    "id": "06BtzP_2YYBO",
    "outputId": "f1844772-2e10-42e4-b1e3-0da21290d50b"
   },
   "outputs": [
    {
     "name": "stdout",
     "output_type": "stream",
     "text": [
      "188/188 [==============================] - 23s 114ms/step - loss: 9.3851 - mean_absolute_error: 2.4026\n",
      "Validation MAE: 2.403\n",
      "92/92 [==============================] - 11s 114ms/step - loss: 9.8158 - mean_absolute_error: 2.4164\n",
      "Test MAE: 2.416\n"
     ]
    }
   ],
   "source": [
    "model5 = keras.models.load_model('/content/drive/MyDrive/ColabNotebooks/Models/lstm5.keras')\n",
    "print(f\"Validation MAE: {model5.evaluate(val)[1]:.3f}\")\n",
    "print(f\"Test MAE: {model5.evaluate(test)[1]:.3f}\")"
   ]
  },
  {
   "cell_type": "markdown",
   "metadata": {
    "id": "7X_ygEV2HXrO"
   },
   "source": [
    "# **Plot Predictions**"
   ]
  },
  {
   "cell_type": "code",
   "execution_count": null,
   "metadata": {
    "id": "aPjCo-n5dBPX"
   },
   "outputs": [],
   "source": [
    "model5 = keras.models.load_model('/content/drive/MyDrive/ColabNotebooks/Models/lstm5.keras')"
   ]
  },
  {
   "cell_type": "code",
   "execution_count": null,
   "metadata": {
    "id": "BVq5e6MVH6_m"
   },
   "outputs": [],
   "source": [
    "def get_window_data(window_num):\n",
    "    time_delta = 30\n",
    "    plot_gust = test_gusts.iloc[window_num]\n",
    "    index_of_peak = plot_gust['indx']\n",
    "    window_start = index_of_peak - (time_delta - 1)\n",
    "    window_end = index_of_peak + time_delta\n",
    "    plot_window = raw_mins.loc[window_start : window_end].copy()\n",
    "    return plot_window"
   ]
  },
  {
   "cell_type": "code",
   "execution_count": null,
   "metadata": {
    "id": "XFXG-ndEHkKP"
   },
   "outputs": [],
   "source": [
    "def get_plot_data(model, window_num):\n",
    "    preds = model.predict(test)\n",
    "    plot_window = get_window_data(window_num)\n",
    "\n",
    "    lower = window_num * 51   # 51 is the number of predictons per 61 minute window\n",
    "    upper = lower + 51\n",
    "    plot_preds = preds[lower : upper].copy()\n",
    "    return plot_window, plot_preds"
   ]
  },
  {
   "cell_type": "code",
   "execution_count": null,
   "metadata": {
    "id": "-NOoFvuAJk1A"
   },
   "outputs": [],
   "source": [
    "def create_window_plot(plot_window):\n",
    "    sns.relplot(data=plot_window, kind='line', x='UTC', y='Spd', height=4)\n",
    "    plt.xticks(rotation=45)\n",
    "    plt.show()"
   ]
  },
  {
   "cell_type": "code",
   "execution_count": null,
   "metadata": {
    "id": "2LQ-rofaJ0hU"
   },
   "outputs": [],
   "source": [
    "def create_prediction_plot(plot_window, plot_preds):\n",
    "    start_index = len(plot_window) - len(plot_preds)\n",
    "\n",
    "    # Plot actual values\n",
    "    sns.relplot(data=plot_window, kind='line', x='UTC', y='Spd', height=4)\n",
    "\n",
    "    # Plot predicted values starting from the calculated start_index\n",
    "    sns.lineplot(x=plot_window['UTC'].iloc[start_index:], y=plot_preds[:,0], color='orange', label='Predicted')\n",
    "\n",
    "    plt.xticks(rotation=45)\n",
    "    plt.ylim(0, 30)\n",
    "    plt.show()"
   ]
  },
  {
   "cell_type": "code",
   "execution_count": null,
   "metadata": {
    "colab": {
     "base_uri": "https://localhost:8080/",
     "height": 469
    },
    "id": "DWBVluB1MbJk",
    "outputId": "4da2010b-5b8a-4b1c-e0df-39605ba5cdcd"
   },
   "outputs": [
    {
     "name": "stdout",
     "output_type": "stream",
     "text": [
      "92/92 [==============================] - 10s 106ms/step\n"
     ]
    },
    {
     "data": {
      "image/png": "[encoded data removed]",
      "text/plain": [
       "<Figure size 400x400 with 1 Axes>"
      ]
     },
     "metadata": {},
     "output_type": "display_data"
    }
   ],
   "source": [
    "# Pick which window from the test data to visualize (from 0 to 91)\n",
    "window_choice = 81\n",
    "\n",
    "# Pick which model to visualize\n",
    "model_choice = model5\n",
    "\n",
    "plot_window, plot_preds = get_plot_data(model=model_choice, window_num=window_choice)\n",
    "create_prediction_plot(plot_window, plot_preds)"
   ]
  },
  {
   "cell_type": "code",
   "execution_count": null,
   "metadata": {
    "colab": {
     "base_uri": "https://localhost:8080/",
     "height": 468
    },
    "id": "asLXcOKbef7B",
    "outputId": "615e5a25-e73d-4a32-868e-ab52482d7ec7"
   },
   "outputs": [
    {
     "name": "stdout",
     "output_type": "stream",
     "text": [
      "92/92 [==============================] - 10s 105ms/step\n"
     ]
    },
    {
     "data": {
      "image/png": "[encoded data removed]",
      "text/plain": [
       "<Figure size 400x400 with 1 Axes>"
      ]
     },
     "metadata": {},
     "output_type": "display_data"
    }
   ],
   "source": [
    "# Pick which window from the test data to visualize (from 0 to 91)\n",
    "window_choice = 25\n",
    "\n",
    "# Pick which model to visualize\n",
    "model_choice = model5\n",
    "\n",
    "plot_window, plot_preds = get_plot_data(model=model_choice, window_num=window_choice)\n",
    "create_prediction_plot(plot_window, plot_preds)"
   ]
  },
  {
   "cell_type": "code",
   "execution_count": null,
   "metadata": {
    "colab": {
     "base_uri": "https://localhost:8080/",
     "height": 469
    },
    "id": "fGRZfJAWfPOB",
    "outputId": "7843ea68-e003-47eb-d666-9b43b16ccb01"
   },
   "outputs": [
    {
     "name": "stdout",
     "output_type": "stream",
     "text": [
      "92/92 [==============================] - 10s 103ms/step\n"
     ]
    },
    {
     "data": {
      "image/png": "[encoded data removed]",
      "text/plain": [
       "<Figure size 400x400 with 1 Axes>"
      ]
     },
     "metadata": {},
     "output_type": "display_data"
    }
   ],
   "source": [
    "# Pick which window from the test data to visualize (from 0 to 91)\n",
    "window_choice = 44\n",
    "\n",
    "# Pick which model to visualize\n",
    "model_choice = model5\n",
    "\n",
    "plot_window, plot_preds = get_plot_data(model=model_choice, window_num=window_choice)\n",
    "create_prediction_plot(plot_window, plot_preds)"
   ]
  },
  {
   "cell_type": "code",
   "execution_count": null,
   "metadata": {
    "colab": {
     "base_uri": "https://localhost:8080/",
     "height": 469
    },
    "id": "rjHx3uC7iHNO",
    "outputId": "6d14ec66-2bcf-4567-97b3-8d74b3cabbc3"
   },
   "outputs": [
    {
     "name": "stdout",
     "output_type": "stream",
     "text": [
      "92/92 [==============================] - 10s 106ms/step\n"
     ]
    },
    {
     "data": {
      "image/png": "[encoded data removed]",
      "text/plain": [
       "<Figure size 400x400 with 1 Axes>"
      ]
     },
     "metadata": {},
     "output_type": "display_data"
    }
   ],
   "source": [
    "# Pick which window from the test data to visualize (from 0 to 91)\n",
    "window_choice = 76\n",
    "\n",
    "# Pick which model to visualize\n",
    "model_choice = model5\n",
    "\n",
    "plot_window, plot_preds = get_plot_data(model=model_choice, window_num=window_choice)\n",
    "create_prediction_plot(plot_window, plot_preds)"
   ]
  },
  {
   "cell_type": "code",
   "execution_count": null,
   "metadata": {
    "colab": {
     "base_uri": "https://localhost:8080/",
     "height": 469
    },
    "id": "BROHATYLiWmk",
    "outputId": "6d083570-be68-49da-f3ea-b2b7f446f05e"
   },
   "outputs": [
    {
     "name": "stdout",
     "output_type": "stream",
     "text": [
      "92/92 [==============================] - 8s 83ms/step\n"
     ]
    },
    {
     "data": {
      "image/png": "[encoded data removed]",
      "text/plain": [
       "<Figure size 400x400 with 1 Axes>"
      ]
     },
     "metadata": {},
     "output_type": "display_data"
    }
   ],
   "source": [
    "# Pick which window from the test data to visualize (from 0 to 91)\n",
    "window_choice = 29\n",
    "\n",
    "# Pick which model to visualize\n",
    "model_choice = model5\n",
    "\n",
    "plot_window, plot_preds = get_plot_data(model=model_choice, window_num=window_choice)\n",
    "create_prediction_plot(plot_window, plot_preds)"
   ]
  }
 ],
 "metadata": {
  "colab": {
   "provenance": []
  },
  "kernelspec": {
   "display_name": "Python 3 (ipykernel)",
   "language": "python",
   "name": "python3"
  },
  "language_info": {
   "codemirror_mode": {
    "name": "ipython",
    "version": 3
   },
   "file_extension": ".py",
   "mimetype": "text/x-python",
   "name": "python",
   "nbconvert_exporter": "python",
   "pygments_lexer": "ipython3",
   "version": "3.9.12"
  }
 },
 "nbformat": 4,
 "nbformat_minor": 1
}
